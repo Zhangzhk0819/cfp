{
 "cells": [
  {
   "cell_type": "code",
   "execution_count": 5,
   "metadata": {},
   "outputs": [],
   "source": [
    "import json\n",
    "import yaml\n",
    "from collections import defaultdict"
   ]
  },
  {
   "cell_type": "code",
   "execution_count": 6,
   "metadata": {},
   "outputs": [],
   "source": [
    "json_data = json.load(open('conf_info.json', 'r'))\n",
    "\n",
    "with open('./_data/conferences.yml', 'w') as f:\n",
    "    f.write('---\\n\\n')\n",
    "    for conf, conf_data in json_data.items():\n",
    "        for year, year_data in conf_data.items():\n",
    "            if not year in ['sub', 'hindex']:\n",
    "                f.write('- title: ' + conf + '\\n')\n",
    "                f.write('  year: ' + year[:-1] + '\\n')\n",
    "                f.write('  id: ' + year_data['id'] + '\\n')\n",
    "                f.write('  link: ' + year_data['link'] + '\\n')\n",
    "                f.write('  deadline: \"' + year_data['deadline'] + '\"\\n')\n",
    "                f.write('  timezone: ' + year_data['timezone'] + '\\n')\n",
    "                f.write('  place: ' + year_data['place'] + '\\n')\n",
    "                f.write('  date: ' + year_data['date'] + '\\n')\n",
    "                f.write('  start: ' + year_data['date'].split(' -> ')[0] + '\\n')\n",
    "                f.write('  end: ' + year_data['date'].split(' -> ')[1] + '\\n')\n",
    "                f.write('  hindex: ' + str(conf_data['hindex']) + '\\n')\n",
    "                f.write('  sub: ' + conf_data['sub'] + '\\n\\n')\n",
    "\n",
    "\n"
   ]
  }
 ],
 "metadata": {
  "kernelspec": {
   "display_name": "Python 3.7.4 64-bit ('base')",
   "language": "python",
   "name": "python3"
  },
  "language_info": {
   "codemirror_mode": {
    "name": "ipython",
    "version": 3
   },
   "file_extension": ".py",
   "mimetype": "text/x-python",
   "name": "python",
   "nbconvert_exporter": "python",
   "pygments_lexer": "ipython3",
   "version": "3.7.4"
  },
  "orig_nbformat": 4,
  "vscode": {
   "interpreter": {
    "hash": "851451cab6a00122ebfa937cf63810332d23848629b30f0ce9396e4cc8d529c4"
   }
  }
 },
 "nbformat": 4,
 "nbformat_minor": 2
}
